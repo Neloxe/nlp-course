{
  "nbformat": 4,
  "nbformat_minor": 0,
  "metadata": {
    "colab": {
      "provenance": [],
      "include_colab_link": true
    },
    "kernelspec": {
      "name": "python3",
      "display_name": "Python 3"
    }
  },
  "cells": [
    {
      "cell_type": "markdown",
      "metadata": {
        "id": "view-in-github",
        "colab_type": "text"
      },
      "source": [
        "<a href=\"https://colab.research.google.com/github/Neloxe/nlp-course/blob/main/Analyse_de_texte_utilisant_NLTK.ipynb\" target=\"_parent\"><img src=\"https://colab.research.google.com/assets/colab-badge.svg\" alt=\"Open In Colab\"/></a>"
      ]
    },
    {
      "cell_type": "markdown",
      "metadata": {
        "id": "HwrqC1Fk5-WZ"
      },
      "source": [
        "# Analyse de texte utilisant NLTK"
      ]
    },
    {
      "cell_type": "code",
      "metadata": {
        "id": "wfBlnB6S5l2V"
      },
      "source": [
        "from nltk.tokenize import word_tokenize\n",
        "from nltk.text import Text\n",
        "import nltk"
      ],
      "execution_count": 7,
      "outputs": []
    },
    {
      "cell_type": "code",
      "metadata": {
        "id": "_lyPdA7sDm0U",
        "colab": {
          "base_uri": "https://localhost:8080/"
        },
        "outputId": "02e6ac41-3b0d-4889-b323-d7ea67ea9eaf"
      },
      "source": [
        "nltk.download('punkt')\n",
        "nltk.download('punkt_tab')\n",
        "nltk.download('stopwords')\n",
        "nltk.download('wordnet')\n",
        "nltk.download('averaged_perceptron_tagger')\n",
        "nltk.download('omw-1.4')\n",
        "nltk.download('averaged_perceptron_tagger_eng')"
      ],
      "execution_count": 23,
      "outputs": [
        {
          "output_type": "stream",
          "name": "stderr",
          "text": [
            "[nltk_data] Downloading package punkt to /root/nltk_data...\n",
            "[nltk_data]   Package punkt is already up-to-date!\n",
            "[nltk_data] Downloading package punkt_tab to /root/nltk_data...\n",
            "[nltk_data]   Package punkt_tab is already up-to-date!\n",
            "[nltk_data] Downloading package stopwords to /root/nltk_data...\n",
            "[nltk_data]   Package stopwords is already up-to-date!\n",
            "[nltk_data] Downloading package wordnet to /root/nltk_data...\n",
            "[nltk_data]   Package wordnet is already up-to-date!\n",
            "[nltk_data] Downloading package averaged_perceptron_tagger to\n",
            "[nltk_data]     /root/nltk_data...\n",
            "[nltk_data]   Package averaged_perceptron_tagger is already up-to-\n",
            "[nltk_data]       date!\n",
            "[nltk_data] Downloading package omw-1.4 to /root/nltk_data...\n",
            "[nltk_data]   Package omw-1.4 is already up-to-date!\n",
            "[nltk_data] Downloading package averaged_perceptron_tagger_eng to\n",
            "[nltk_data]     /root/nltk_data...\n",
            "[nltk_data]   Unzipping taggers/averaged_perceptron_tagger_eng.zip.\n"
          ]
        },
        {
          "output_type": "execute_result",
          "data": {
            "text/plain": [
              "True"
            ]
          },
          "metadata": {},
          "execution_count": 23
        }
      ]
    },
    {
      "cell_type": "markdown",
      "metadata": {
        "id": "0pbLZHOK6sH-"
      },
      "source": [
        "# La tokenization"
      ]
    },
    {
      "cell_type": "markdown",
      "metadata": {
        "id": "GCg-nz4m637N"
      },
      "source": [
        "Le but est de transformer une phrase en vecteur de mots."
      ]
    },
    {
      "cell_type": "code",
      "metadata": {
        "id": "owA-myd_5o30",
        "colab": {
          "base_uri": "https://localhost:8080/"
        },
        "outputId": "a056562e-1ce7-4323-b980-0ac9200e811c"
      },
      "source": [
        "my_string = \"Je suis ici pour étudier le Natural Language Processing, j'adore ça\"\n",
        "tokens = word_tokenize(my_string)\n",
        "tokens"
      ],
      "execution_count": 9,
      "outputs": [
        {
          "output_type": "execute_result",
          "data": {
            "text/plain": [
              "['Je',\n",
              " 'suis',\n",
              " 'ici',\n",
              " 'pour',\n",
              " 'étudier',\n",
              " 'le',\n",
              " 'Natural',\n",
              " 'Language',\n",
              " 'Processing',\n",
              " ',',\n",
              " \"j'adore\",\n",
              " 'ça']"
            ]
          },
          "metadata": {},
          "execution_count": 9
        }
      ]
    },
    {
      "cell_type": "markdown",
      "metadata": {
        "id": "KF1k_V3tBa5_"
      },
      "source": [
        "On peut voir que la tokenization n'est pas parfaite \"j'adore\" est considéré comme une seul mot.\n",
        "on va utiliser les expressions régulières pour ne récupérer que les caractères alphanumériques de chaque phrase."
      ]
    },
    {
      "cell_type": "code",
      "metadata": {
        "id": "51bj2aWe62Nd",
        "colab": {
          "base_uri": "https://localhost:8080/"
        },
        "outputId": "455c62f7-0187-415a-ee8a-865aff2aa476"
      },
      "source": [
        "tokenizer = nltk.RegexpTokenizer(r'\\w+')\n",
        "tokens = tokenizer.tokenize(my_string)\n",
        "tokens"
      ],
      "execution_count": 10,
      "outputs": [
        {
          "output_type": "execute_result",
          "data": {
            "text/plain": [
              "['Je',\n",
              " 'suis',\n",
              " 'ici',\n",
              " 'pour',\n",
              " 'étudier',\n",
              " 'le',\n",
              " 'Natural',\n",
              " 'Language',\n",
              " 'Processing',\n",
              " 'j',\n",
              " 'adore',\n",
              " 'ça']"
            ]
          },
          "metadata": {},
          "execution_count": 10
        }
      ]
    },
    {
      "cell_type": "markdown",
      "metadata": {
        "id": "91B9paOwBwG0"
      },
      "source": [
        "On peut voir que l'on a toujours des majuscules ce qui peut être un problème lors d'un comptage de notre vocabulaire.\n",
        "\n",
        "N'oubliez pas de mettre votre phrase en minuscule avant de travailler desssus."
      ]
    },
    {
      "cell_type": "code",
      "metadata": {
        "id": "5bcv0-88BGz8",
        "colab": {
          "base_uri": "https://localhost:8080/"
        },
        "outputId": "7980b8b2-5bff-4623-bfad-31b6926f5bdd"
      },
      "source": [
        "tokens = tokenizer.tokenize(my_string.lower())\n",
        "tokens"
      ],
      "execution_count": 11,
      "outputs": [
        {
          "output_type": "execute_result",
          "data": {
            "text/plain": [
              "['je',\n",
              " 'suis',\n",
              " 'ici',\n",
              " 'pour',\n",
              " 'étudier',\n",
              " 'le',\n",
              " 'natural',\n",
              " 'language',\n",
              " 'processing',\n",
              " 'j',\n",
              " 'adore',\n",
              " 'ça']"
            ]
          },
          "metadata": {},
          "execution_count": 11
        }
      ]
    },
    {
      "cell_type": "markdown",
      "metadata": {
        "id": "I4FJi0hUCdc3"
      },
      "source": [
        "# Les stopwords"
      ]
    },
    {
      "cell_type": "markdown",
      "metadata": {
        "id": "3dg7lrl4EJ1f"
      },
      "source": [
        "On va supprimer ici les mots les plus fréquents et qui n'apporte pas beaucoup d'informations. Si on voit la phrase comme un signal transportant de l'information, les stopwords peuvent être vue comme du bruit.\n",
        "\n",
        "Combien de stopwords sont présent dans la langue française ?"
      ]
    },
    {
      "cell_type": "code",
      "metadata": {
        "id": "WxMD8nC8B0Ug",
        "colab": {
          "base_uri": "https://localhost:8080/"
        },
        "outputId": "dff6fee2-7e44-4256-d73c-47179fed26d5"
      },
      "source": [
        "len(nltk.corpus.stopwords.words('french'))"
      ],
      "execution_count": 12,
      "outputs": [
        {
          "output_type": "execute_result",
          "data": {
            "text/plain": [
              "157"
            ]
          },
          "metadata": {},
          "execution_count": 12
        }
      ]
    },
    {
      "cell_type": "markdown",
      "metadata": {
        "id": "UTV4QvxrEhxQ"
      },
      "source": [
        "La librairie *nltk* répertorie 157 stopwords pour la langue française !\n",
        "\n",
        "Vous pouvez voir les dix premiers mots ci-dessous."
      ]
    },
    {
      "cell_type": "code",
      "metadata": {
        "id": "_PeMDDVcEiO3",
        "colab": {
          "base_uri": "https://localhost:8080/"
        },
        "outputId": "d1fbce9a-7c8b-4496-99cf-f0a1b01a0e85"
      },
      "source": [
        "nltk.corpus.stopwords.words('french')[:10]"
      ],
      "execution_count": 13,
      "outputs": [
        {
          "output_type": "execute_result",
          "data": {
            "text/plain": [
              "['au', 'aux', 'avec', 'ce', 'ces', 'dans', 'de', 'des', 'du', 'elle']"
            ]
          },
          "metadata": {},
          "execution_count": 13
        }
      ]
    },
    {
      "cell_type": "markdown",
      "metadata": {
        "id": "9xhqlJ5LEydQ"
      },
      "source": [
        "On peut donc retirer les stopwords de notre phrase de base."
      ]
    },
    {
      "cell_type": "code",
      "metadata": {
        "id": "Lo5nY9WBDko4",
        "colab": {
          "base_uri": "https://localhost:8080/"
        },
        "outputId": "612bbd4b-8701-4729-92cf-46434051031f"
      },
      "source": [
        "[w for w in tokens if not w in list(nltk.corpus.stopwords.words('french'))]"
      ],
      "execution_count": 14,
      "outputs": [
        {
          "output_type": "execute_result",
          "data": {
            "text/plain": [
              "['ici', 'étudier', 'natural', 'language', 'processing', 'adore', 'ça']"
            ]
          },
          "metadata": {},
          "execution_count": 14
        }
      ]
    },
    {
      "cell_type": "markdown",
      "metadata": {
        "id": "YsqSiU2RFfzf"
      },
      "source": [
        "Notre phrase contient seulement les mots qui ont de la valeur, il est maintenant possible de l'étudier."
      ]
    },
    {
      "cell_type": "markdown",
      "metadata": {
        "id": "Y7eWa8hyFt2r"
      },
      "source": [
        "# Un problème de doublon"
      ]
    },
    {
      "cell_type": "code",
      "metadata": {
        "id": "nv18_uP1F9gG",
        "colab": {
          "base_uri": "https://localhost:8080/"
        },
        "outputId": "f75260f4-ec00-4855-d106-cbc4e5204208"
      },
      "source": [
        "my_string = \"Julien est plus grand que toi, mais tu es plus grande que Sophie. \\\n",
        "            Julien et Sophie sont plus grands que Marie\"\n",
        "tokenizer = nltk.RegexpTokenizer(r'\\w+')\n",
        "tokens = tokenizer.tokenize(my_string.lower())\n",
        "tokens = [w for w in tokens if not w in list(nltk.corpus.stopwords.words('french'))]\n",
        "\n",
        "tokens"
      ],
      "execution_count": 15,
      "outputs": [
        {
          "output_type": "execute_result",
          "data": {
            "text/plain": [
              "['julien',\n",
              " 'plus',\n",
              " 'grand',\n",
              " 'plus',\n",
              " 'grande',\n",
              " 'sophie',\n",
              " 'julien',\n",
              " 'sophie',\n",
              " 'plus',\n",
              " 'grands',\n",
              " 'marie']"
            ]
          },
          "metadata": {},
          "execution_count": 15
        }
      ]
    },
    {
      "cell_type": "markdown",
      "metadata": {
        "id": "bL0oHk82HWIv"
      },
      "source": [
        "On peut voir que dans la phrase il y a plusieurs le même mot \"grand\" mais accordé de différentes façon."
      ]
    },
    {
      "cell_type": "code",
      "metadata": {
        "id": "92UryKQOHQCZ",
        "colab": {
          "base_uri": "https://localhost:8080/"
        },
        "outputId": "3f96bc90-6390-4b02-99b4-64202ab8d2b2"
      },
      "source": [
        "nltk.FreqDist(tokens)"
      ],
      "execution_count": 16,
      "outputs": [
        {
          "output_type": "execute_result",
          "data": {
            "text/plain": [
              "FreqDist({'plus': 3, 'julien': 2, 'sophie': 2, 'grand': 1, 'grande': 1, 'grands': 1, 'marie': 1})"
            ]
          },
          "metadata": {},
          "execution_count": 16
        }
      ]
    },
    {
      "cell_type": "markdown",
      "metadata": {
        "id": "eaXrymlMHmC2"
      },
      "source": [
        "Si l'on travail le texte, on va donc considérer que \"grand\", \"grande\" et \"grands\" sont trois mots différents."
      ]
    },
    {
      "cell_type": "markdown",
      "metadata": {
        "id": "0htJPcieIDhv"
      },
      "source": [
        "# Le stemming"
      ]
    },
    {
      "cell_type": "markdown",
      "metadata": {
        "id": "yA7RZ43-JxDf"
      },
      "source": [
        "Le stemming garde une racinisation des mots. Cette technique permet de regrouper des verbes conjugués et des adjectifs accordés sous la même orthographe."
      ]
    },
    {
      "cell_type": "code",
      "metadata": {
        "id": "2Voph9oTHctB"
      },
      "source": [
        "from nltk.stem.snowball import FrenchStemmer\n",
        "\n",
        "stemmer = FrenchStemmer()"
      ],
      "execution_count": 17,
      "outputs": []
    },
    {
      "cell_type": "markdown",
      "metadata": {
        "id": "M12BE934KXoQ"
      },
      "source": [
        "N'oubliez pas d'utiliser une stemming adéquat au language utilisé."
      ]
    },
    {
      "cell_type": "code",
      "metadata": {
        "id": "Njy0fNx7IFpF",
        "colab": {
          "base_uri": "https://localhost:8080/"
        },
        "outputId": "2ddcf657-7b24-424b-fd7e-ab6b50bc87e7"
      },
      "source": [
        "tokens_stem = [stemmer.stem(w) for w in tokens]\n",
        "tokens_stem"
      ],
      "execution_count": 18,
      "outputs": [
        {
          "output_type": "execute_result",
          "data": {
            "text/plain": [
              "['julien',\n",
              " 'plus',\n",
              " 'grand',\n",
              " 'plus',\n",
              " 'grand',\n",
              " 'soph',\n",
              " 'julien',\n",
              " 'soph',\n",
              " 'plus',\n",
              " 'grand',\n",
              " 'mar']"
            ]
          },
          "metadata": {},
          "execution_count": 18
        }
      ]
    },
    {
      "cell_type": "code",
      "metadata": {
        "id": "_3mwgHwcIZFV",
        "colab": {
          "base_uri": "https://localhost:8080/"
        },
        "outputId": "a9710fc3-3e3b-411f-f37f-91a438833ee8"
      },
      "source": [
        "nltk.FreqDist(tokens_stem)"
      ],
      "execution_count": 19,
      "outputs": [
        {
          "output_type": "execute_result",
          "data": {
            "text/plain": [
              "FreqDist({'plus': 3, 'grand': 3, 'julien': 2, 'soph': 2, 'mar': 1})"
            ]
          },
          "metadata": {},
          "execution_count": 19
        }
      ]
    },
    {
      "cell_type": "markdown",
      "metadata": {
        "id": "esxD53DfKcvo"
      },
      "source": [
        "On peut voir que cette fois, \"grand\", \"grande\" et \"grands\" se retrouve sous la même forme \"grand\"."
      ]
    },
    {
      "cell_type": "markdown",
      "metadata": {
        "id": "E7ayq_ZUKkWt"
      },
      "source": [
        "# Lemmatization"
      ]
    },
    {
      "cell_type": "markdown",
      "metadata": {
        "id": "e-Jv_f18KrKP"
      },
      "source": [
        "Le processus de lemmatisation consiste à représenter les mots sous leur forme canonique. Par exemple pour un verbe, ce sera son infinitif. Pour un nom, son masculin singulier.\n",
        "\n",
        "La fonction de lemmatization n'existe pas dans *nltk* pour le français l'exemple qui suit sera donc en anglais."
      ]
    },
    {
      "cell_type": "code",
      "metadata": {
        "id": "Q28YNvUpLZUq"
      },
      "source": [
        "from nltk.stem import WordNetLemmatizer\n",
        "Word_Lemmatizer = WordNetLemmatizer()"
      ],
      "execution_count": 20,
      "outputs": []
    },
    {
      "cell_type": "code",
      "metadata": {
        "id": "eol6SD1kLAND",
        "colab": {
          "base_uri": "https://localhost:8080/"
        },
        "outputId": "4c933bb8-1ee4-42bd-9f28-da3f92ec450e"
      },
      "source": [
        "my_string = \"Who let's the dogs out.\"\n",
        "tokenizer = nltk.RegexpTokenizer(r'\\w+')\n",
        "tokens = tokenizer.tokenize(my_string.lower())\n",
        "tokens = [w for w in tokens if not w in list(nltk.corpus.stopwords.words())]\n",
        "print(tokens)\n",
        "tokens_lema = [Word_Lemmatizer.lemmatize(w) for w in tokens]\n",
        "print(tokens_lema)"
      ],
      "execution_count": 21,
      "outputs": [
        {
          "output_type": "stream",
          "name": "stdout",
          "text": [
            "['dogs']\n",
            "['dog']\n"
          ]
        }
      ]
    },
    {
      "cell_type": "markdown",
      "metadata": {
        "id": "XwUC2I0HNHbd"
      },
      "source": [
        "# Part of speach tagging"
      ]
    },
    {
      "cell_type": "markdown",
      "metadata": {
        "id": "4wQxCf_wN3TL"
      },
      "source": [
        "On peut avoir des précisions sur l'usage du mot dans la phrase."
      ]
    },
    {
      "cell_type": "code",
      "metadata": {
        "id": "9HD0ygijL-u0",
        "colab": {
          "base_uri": "https://localhost:8080/"
        },
        "outputId": "dbf89132-ec2f-4381-dfe3-07dcd3e68c59"
      },
      "source": [
        "my_string = \"I like hot tea\"\n",
        "tokenizer = nltk.RegexpTokenizer(r'\\w+')\n",
        "tokens = tokenizer.tokenize(my_string.lower())\n",
        "nltk.pos_tag(tokens)"
      ],
      "execution_count": 24,
      "outputs": [
        {
          "output_type": "execute_result",
          "data": {
            "text/plain": [
              "[('i', 'NNS'), ('like', 'VBP'), ('hot', 'JJ'), ('tea', 'NN')]"
            ]
          },
          "metadata": {},
          "execution_count": 24
        }
      ]
    }
  ]
}