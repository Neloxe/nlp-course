{
  "nbformat": 4,
  "nbformat_minor": 0,
  "metadata": {
    "colab": {
      "provenance": [],
      "include_colab_link": true
    },
    "kernelspec": {
      "name": "python3",
      "display_name": "Python 3"
    }
  },
  "cells": [
    {
      "cell_type": "markdown",
      "metadata": {
        "id": "view-in-github",
        "colab_type": "text"
      },
      "source": [
        "<a href=\"https://colab.research.google.com/github/Neloxe/nlp-course/blob/main/Exercice_5.ipynb\" target=\"_parent\"><img src=\"https://colab.research.google.com/assets/colab-badge.svg\" alt=\"Open In Colab\"/></a>"
      ]
    },
    {
      "cell_type": "markdown",
      "metadata": {
        "id": "VUYjLYt9IQom"
      },
      "source": [
        "# Word Embeddings Première étape : la data préparation"
      ]
    },
    {
      "cell_type": "code",
      "metadata": {
        "id": "hW6C2dPQJmIn",
        "outputId": "c341dfbf-3c8e-4ec6-d320-4577abebd037",
        "colab": {
          "base_uri": "https://localhost:8080/"
        }
      },
      "source": [
        "!pip install emoji"
      ],
      "execution_count": 247,
      "outputs": [
        {
          "output_type": "stream",
          "name": "stdout",
          "text": [
            "Requirement already satisfied: emoji in /usr/local/lib/python3.10/dist-packages (2.14.0)\n"
          ]
        }
      ]
    },
    {
      "cell_type": "code",
      "metadata": {
        "id": "pTO8SRxHITN8"
      },
      "source": [
        "import re\n",
        "import nltk\n",
        "import emoji\n",
        "import numpy as np\n",
        "from nltk.tokenize import word_tokenize\n",
        "\n",
        "from scipy import linalg\n",
        "from collections import defaultdict"
      ],
      "execution_count": 248,
      "outputs": []
    },
    {
      "cell_type": "code",
      "metadata": {
        "id": "0tuvG4mUJ5hv",
        "outputId": "c00c8c89-4100-47f6-95e5-671826aba991",
        "colab": {
          "base_uri": "https://localhost:8080/"
        }
      },
      "source": [
        "nltk.download('punkt')"
      ],
      "execution_count": 249,
      "outputs": [
        {
          "output_type": "stream",
          "name": "stderr",
          "text": [
            "[nltk_data] Downloading package punkt to /root/nltk_data...\n",
            "[nltk_data]   Package punkt is already up-to-date!\n"
          ]
        },
        {
          "output_type": "execute_result",
          "data": {
            "text/plain": [
              "True"
            ]
          },
          "metadata": {},
          "execution_count": 249
        }
      ]
    },
    {
      "cell_type": "markdown",
      "metadata": {
        "id": "COSjtwLlIdBZ"
      },
      "source": [
        "# Data préparation\n",
        "\n",
        "Dans la phase de préparation des données, en commençant par un corpus de texte, vous:\n",
        "\n",
        "- Nettoyer et marquer le corpus.\n",
        "\n",
        "- Extraire les paires de mots de contexte et de mot central qui constitueront l'ensemble des données d'entraînement pour le modèle CBOW. Les mots contextuels sont les caractéristiques qui seront introduites dans le modèle, et les mots centraux sont les valeurs cibles que le modèle apprendra à prédire.\n",
        "\n",
        "- Créez des représentations vectorielles simples des mots de contexte (caractéristiques) et des mots centraux (cibles) qui peuvent être utilisés par le réseau neuronal du modèle CBOW."
      ]
    },
    {
      "cell_type": "markdown",
      "metadata": {
        "id": "KZAMlED9IgbR"
      },
      "source": [
        "## Cleaning et tokenization\n",
        "\n",
        "Pour démontrer le processus de nettoyage et de tokenisation, considérons un corpus qui contient des emojis et divers signes de ponctuation."
      ]
    },
    {
      "cell_type": "code",
      "metadata": {
        "id": "0FYNSCL8I_Hu"
      },
      "source": [
        "# Define a corpus\n",
        "corpus = 'Who ❤️ \"word embeddings\" in 2020? I do!!!'"
      ],
      "execution_count": 250,
      "outputs": []
    },
    {
      "cell_type": "markdown",
      "metadata": {
        "id": "lSQ14viHJDML"
      },
      "source": [
        "Premièrement, remplacez tous les signes de ponctuation interruptifs - tels que les virgules et les points d'exclamation - par des points."
      ]
    },
    {
      "cell_type": "code",
      "metadata": {
        "colab": {
          "base_uri": "https://localhost:8080/"
        },
        "id": "8lzLIPQRJLa0",
        "outputId": "a3ad951c-5f5f-456e-dd41-5c4cc9ac23e0"
      },
      "source": [
        "# Print original corpus\n",
        "print(f'Corpus:  {corpus}')\n",
        "\n",
        "import re\n",
        "\n",
        "# Do the substitution\n",
        "### A modifier - debut\n",
        "delimiters = r'[,\\s;?!\"]+'\n",
        "data = re.split(delimiters, corpus)\n",
        "data = \" \".join(data)\n",
        "### A modifier - fin\n",
        "\n",
        "print(data)\n",
        "\n",
        "# Print cleaned corpus\n",
        "print(f'After cleaning punctuation:  {data}')"
      ],
      "execution_count": 251,
      "outputs": [
        {
          "output_type": "stream",
          "name": "stdout",
          "text": [
            "Corpus:  Who ❤️ \"word embeddings\" in 2020? I do!!!\n",
            "Who ❤️ word embeddings in 2020 I do \n",
            "After cleaning punctuation:  Who ❤️ word embeddings in 2020 I do \n"
          ]
        }
      ]
    },
    {
      "cell_type": "markdown",
      "metadata": {
        "id": "-noUOlB1Ja3a"
      },
      "source": [
        "Ensuite, utilisez le moteur de tokenisation de NLTK pour diviser le corpus en tokens individuels."
      ]
    },
    {
      "cell_type": "code",
      "metadata": {
        "id": "7dR32WmfJP4q",
        "outputId": "1c2fd994-3ef9-4f3c-98da-70eb2d16a2cb",
        "colab": {
          "base_uri": "https://localhost:8080/"
        }
      },
      "source": [
        "# Print cleaned corpus\n",
        "print(f'Initial string:  {data}')\n",
        "\n",
        "# Tokenize the cleaned corpus\n",
        "### A modifier - debut\n",
        "tokenizer = nltk.RegexpTokenizer(r'\\w+')\n",
        "tokens = tokenizer.tokenize(data)\n",
        "data = tokens\n",
        "### A modifier - fin\n",
        "\n",
        "# Print the tokenized version of the corpus\n",
        "print(f'After tokenization:  {data}')"
      ],
      "execution_count": 252,
      "outputs": [
        {
          "output_type": "stream",
          "name": "stdout",
          "text": [
            "Initial string:  Who ❤️ word embeddings in 2020 I do \n",
            "After tokenization:  ['Who', 'word', 'embeddings', 'in', '2020', 'I', 'do']\n"
          ]
        }
      ]
    },
    {
      "cell_type": "markdown",
      "metadata": {
        "id": "Z644AnwYJ8Zx"
      },
      "source": [
        "Enfin, comme vous l'avez vu dans le cours, débarrassez-vous des chiffres et de la ponctuation autres que les points, et convertissez tous les tokens restants en minuscules.\n"
      ]
    },
    {
      "cell_type": "code",
      "metadata": {
        "id": "DTn9aw9mKLo0",
        "outputId": "b8b8b7f1-d350-4f44-9c80-921a2d3de8d4",
        "colab": {
          "base_uri": "https://localhost:8080/"
        }
      },
      "source": [
        "# Print the tokenized version of the corpus\n",
        "print(f'Initial list of tokens:  {data}')\n",
        "\n",
        "# Filter tokenized corpus using list comprehension\n",
        "### A modifier - debut\n",
        "data = [token.lower() for token in data if token.isalpha() or token == \".\"]\n",
        "### A modifier - fin\n",
        "\n",
        "# Print the tokenized and filtered version of the corpus\n",
        "print(f'After cleaning:  {data}')"
      ],
      "execution_count": 253,
      "outputs": [
        {
          "output_type": "stream",
          "name": "stdout",
          "text": [
            "Initial list of tokens:  ['Who', 'word', 'embeddings', 'in', '2020', 'I', 'do']\n",
            "After cleaning:  ['who', 'word', 'embeddings', 'in', 'i', 'do']\n"
          ]
        }
      ]
    },
    {
      "cell_type": "markdown",
      "metadata": {
        "id": "DjxModWSKNe1"
      },
      "source": [
        "Notez que l'émoji du coeur est considéré comme un token comme n'importe quel mot normal.\n",
        "\n",
        "Maintenant, rationalisons le processus de nettoyage et de tokenisation en intégrant les étapes précédentes dans une fonction."
      ]
    },
    {
      "cell_type": "code",
      "metadata": {
        "id": "hRusZszFKUrS"
      },
      "source": [
        "# Define the 'tokenize' function that will include the steps previously seen\n",
        "def tokenize(corpus):\n",
        "\n",
        "    ### A modifier - debut\n",
        "    delimiters = r'[,\\s;?!\"]+'\n",
        "    data = re.split(delimiters, corpus)\n",
        "    data = \" \".join(data)\n",
        "    tokenizer = nltk.RegexpTokenizer(r'\\w+')\n",
        "    tokens = tokenizer.tokenize(data)\n",
        "    data = tokens\n",
        "    data = [token.lower() for token in data if token.isalpha() or token == \".\"]\n",
        "    ### A modifier - fin\n",
        "    return data"
      ],
      "execution_count": 254,
      "outputs": []
    },
    {
      "cell_type": "markdown",
      "metadata": {
        "id": "bplJ85lRKXFv"
      },
      "source": [
        "Appliquez cette fonction au corpus sur lequel vous allez travailler dans le reste de ce carnet : \"I am happy because I am learning\""
      ]
    },
    {
      "cell_type": "code",
      "metadata": {
        "id": "NzwzPIRvKgnY",
        "outputId": "5e1e0ecb-2925-4f83-bf10-b16f12497b1e",
        "colab": {
          "base_uri": "https://localhost:8080/"
        }
      },
      "source": [
        "# Define new corpus\n",
        "corpus = 'I am happy because I am learning'\n",
        "\n",
        "# Print new corpus\n",
        "print(f'Corpus:  {corpus}')\n",
        "\n",
        "# Save tokenized version of corpus into 'words' variable\n",
        "words = tokenize(corpus)\n",
        "\n",
        "# Print the tokenized version of the corpus\n",
        "print(f'Words (tokens):  {words}')"
      ],
      "execution_count": 255,
      "outputs": [
        {
          "output_type": "stream",
          "name": "stdout",
          "text": [
            "Corpus:  I am happy because I am learning\n",
            "Words (tokens):  ['i', 'am', 'happy', 'because', 'i', 'am', 'learning']\n"
          ]
        }
      ]
    },
    {
      "cell_type": "markdown",
      "metadata": {
        "id": "lV0iN9f-Kkca"
      },
      "source": [
        "**Maintenant, essayez-le vous-même avec votre propre phrase.**"
      ]
    },
    {
      "cell_type": "code",
      "metadata": {
        "id": "B1fhr6u9KqS2",
        "outputId": "0cfd3e89-905d-4f7a-a472-a41a813402d1",
        "colab": {
          "base_uri": "https://localhost:8080/"
        }
      },
      "source": [
        "# Run this with any sentence\n",
        "tokenize(\"I'm trying to learn without AI.\")\n"
      ],
      "execution_count": 256,
      "outputs": [
        {
          "output_type": "execute_result",
          "data": {
            "text/plain": [
              "['i', 'm', 'trying', 'to', 'learn', 'without', 'ai']"
            ]
          },
          "metadata": {},
          "execution_count": 256
        }
      ]
    },
    {
      "cell_type": "markdown",
      "metadata": {
        "id": "hdG8ZSitKvoq"
      },
      "source": [
        "## Sliding window of words"
      ]
    },
    {
      "cell_type": "markdown",
      "metadata": {
        "id": "XGG8MCBUKzw8"
      },
      "source": [
        "Maintenant que vous avez transformé le corpus en une liste de token propres, vous pouvez faire glisser une fenêtre de mots sur cette liste. Pour chaque fenêtre, vous pouvez extraire un mot central et les mots de contexte.\n",
        "\n",
        "La fonction `get_windows` dans la cellule suivante a été introduite dans le cours."
      ]
    },
    {
      "cell_type": "markdown",
      "metadata": {
        "id": "XGqBCwEsK-bA"
      },
      "source": [
        "Le premier argument de cette fonction est une liste de mots (ou de tokens). Le deuxième argument, \"C\", est le contexte demi-taille. Rappelons que pour un mot central donné, les mots de contexte sont constitués de mots \"C\" à gauche et de mots \"C\" à droite du mot central.\n"
      ]
    },
    {
      "cell_type": "code",
      "metadata": {
        "id": "8izH0tVbK8Xm"
      },
      "source": [
        "# Define the 'get_windows' function\n",
        "def get_windows(words, C):\n",
        "    i = C\n",
        "    while i < len(words) - C:\n",
        "\n",
        "        ### A modifier - debut\n",
        "        center_word = words[i]\n",
        "        context_words = [word for word in words[(i - C):i] + words[(i+1):(i+C+1)]]\n",
        "        ### A modifier - fin\n",
        "        yield context_words, center_word\n",
        "        i += 1"
      ],
      "execution_count": 257,
      "outputs": []
    },
    {
      "cell_type": "markdown",
      "metadata": {
        "id": "J8RTPyXQLYaA"
      },
      "source": [
        "Voici comment vous pouvez utiliser cette fonction pour extraire les mots de contexte et les mots centraux d'une liste de tokens. Ces mots de contexte et mots centraux constitueront le jeu de formation que vous utiliserez pour former le modèle CBOW."
      ]
    },
    {
      "cell_type": "code",
      "metadata": {
        "id": "xLOalYubLJ2X",
        "outputId": "dfbbac83-b42a-443a-c5ef-3404290580c2",
        "colab": {
          "base_uri": "https://localhost:8080/"
        }
      },
      "source": [
        "# Print 'context_words' and 'center_word' for the new corpus with a 'context half-size' of 2\n",
        "for x, y in get_windows(['i', 'am', 'happy', 'because', 'i', 'am', 'learning'], 2):\n",
        "    print(f'{x}\\t{y}')"
      ],
      "execution_count": 258,
      "outputs": [
        {
          "output_type": "stream",
          "name": "stdout",
          "text": [
            "['i', 'am', 'because', 'i']\thappy\n",
            "['am', 'happy', 'i', 'am']\tbecause\n",
            "['happy', 'because', 'am', 'learning']\ti\n"
          ]
        }
      ]
    },
    {
      "cell_type": "markdown",
      "metadata": {
        "id": "PkbagsC1LZwd"
      },
      "source": [
        "Le premier exemple de l'ensemble de formation est constitué de\n",
        "\n",
        "- les mots de contexte \"I\", \"am\", \"because\", \"I\",\n",
        "\n",
        "- et le mot central à prédire : \"happy\".\n",
        "\n",
        "**Maintenant, essayez-le vous-même. Dans la cellule suivante, vous pouvez changer la phrase et l'hyperparamètre C."
      ]
    },
    {
      "cell_type": "code",
      "metadata": {
        "id": "n8Dc6AwqLqZH",
        "outputId": "d0be2c9a-8c29-428f-dc22-931c56fb756c",
        "colab": {
          "base_uri": "https://localhost:8080/"
        }
      },
      "source": [
        "# Print 'context_words' and 'center_word' for any sentence with a 'context half-size' of 1\n",
        "for x, y in get_windows(tokenize(\"I'm trying to learn without AI.\"), 1):\n",
        "    print(f'{x}\\t{y}')"
      ],
      "execution_count": 259,
      "outputs": [
        {
          "output_type": "stream",
          "name": "stdout",
          "text": [
            "['i', 'trying']\tm\n",
            "['m', 'to']\ttrying\n",
            "['trying', 'learn']\tto\n",
            "['to', 'without']\tlearn\n",
            "['learn', 'ai']\twithout\n"
          ]
        }
      ]
    },
    {
      "cell_type": "markdown",
      "metadata": {
        "id": "H9hpCNfCLsaH"
      },
      "source": [
        "## Transformer les mots en vecteurs pour l'entraînement"
      ]
    },
    {
      "cell_type": "markdown",
      "metadata": {
        "id": "zhlL5fI_MzvZ"
      },
      "source": [
        "Pour terminer la préparation de l'ensemble du jeu d'entraînement, il faut transformer les mots de contexte et les mots centraux en vecteurs.\n",
        "\n",
        "### Mise en correspondance des mots avec les indices et des indices avec les mots\n",
        "\n",
        "Les mots centraux seront représentés sous forme de vecteurs one-hot, et les vecteurs qui représentent les mots de contexte sont également basés sur des vecteurs one-hot.\n",
        "\n",
        "Pour créer des vecteurs de mots uniques, vous pouvez commencer par faire correspondre chaque mot unique à un entier (ou index) unique. Je vous ai fourni une fonction d'aide, `get_dict`, qui crée un dictionnaire Python qui fait correspondre les mots à des entiers et vice-versa.\n",
        "\n"
      ]
    },
    {
      "cell_type": "code",
      "metadata": {
        "id": "N0LeR3yvN6Rt"
      },
      "source": [
        "def get_dict(data):\n",
        "   \"\"\"    Input:\n",
        "           K: the number of negative samples\n",
        "           data: the data you want to pull from\n",
        "           indices: a list of word indices\n",
        "         Output:\n",
        "           word_dict: a dictionary with the weighted probabilities of each word\n",
        "           word2Ind: returns dictionary mapping the word to its index\n",
        "           Ind2Word: returns dictionary mapping the index to its word\n",
        "   \"\"\"\n",
        "\n",
        "   words = sorted(list(set(data)))\n",
        "   n = len(words)\n",
        "   idx = 0\n",
        "\n",
        "   # return these correctly\n",
        "   word2Ind = {}\n",
        "   Ind2word = {}\n",
        "   for k in words:\n",
        "     word2Ind[k] = idx\n",
        "     Ind2word[idx] = k\n",
        "     idx += 1\n",
        "   return word2Ind, Ind2word"
      ],
      "execution_count": 260,
      "outputs": []
    },
    {
      "cell_type": "code",
      "metadata": {
        "id": "lA-DVPC7Plj3"
      },
      "source": [
        "# Get 'word2Ind' and 'Ind2word' dictionaries for the tokenized corpus\n",
        "word2Ind, Ind2word = get_dict(words)"
      ],
      "execution_count": 261,
      "outputs": []
    },
    {
      "cell_type": "markdown",
      "metadata": {
        "id": "D61flJ_5PnpV"
      },
      "source": [
        "Voici le dictionnaire qui fait correspondre les mots à des indices numériques."
      ]
    },
    {
      "cell_type": "code",
      "metadata": {
        "id": "3ZJhXw9NPq1R",
        "outputId": "2e3b132d-1472-4fe0-b8dd-0b187b0069b5",
        "colab": {
          "base_uri": "https://localhost:8080/"
        }
      },
      "source": [
        "# Print 'word2Ind' dictionary\n",
        "word2Ind"
      ],
      "execution_count": 262,
      "outputs": [
        {
          "output_type": "execute_result",
          "data": {
            "text/plain": [
              "{'am': 0, 'because': 1, 'happy': 2, 'i': 3, 'learning': 4}"
            ]
          },
          "metadata": {},
          "execution_count": 262
        }
      ]
    },
    {
      "cell_type": "markdown",
      "metadata": {
        "id": "lcsFqkpCR5yZ"
      },
      "source": [
        "Vous pouvez utiliser ce dictionnaire pour obtenir l'index d'un mot."
      ]
    },
    {
      "cell_type": "code",
      "metadata": {
        "id": "GgB82tBfR75O",
        "outputId": "af0a8ba5-1228-4b85-e8b1-6a2377eca1de",
        "colab": {
          "base_uri": "https://localhost:8080/"
        }
      },
      "source": [
        "# Print value for the key 'i' within word2Ind dictionary\n",
        "print(\"Index of the word 'i':  \",word2Ind['i'])"
      ],
      "execution_count": 263,
      "outputs": [
        {
          "output_type": "stream",
          "name": "stdout",
          "text": [
            "Index of the word 'i':   3\n"
          ]
        }
      ]
    },
    {
      "cell_type": "markdown",
      "metadata": {
        "id": "xBrFiiS6SdK7"
      },
      "source": [
        "Et inversement, voici le dictionnaire qui fait correspondre les index aux mots."
      ]
    },
    {
      "cell_type": "code",
      "metadata": {
        "id": "L11RSBZ2Sfsc",
        "outputId": "27e9bd87-2ea5-474b-8533-abf59bdd2796",
        "colab": {
          "base_uri": "https://localhost:8080/"
        }
      },
      "source": [
        "# Print 'Ind2word' dictionary\n",
        "Ind2word"
      ],
      "execution_count": 264,
      "outputs": [
        {
          "output_type": "execute_result",
          "data": {
            "text/plain": [
              "{0: 'am', 1: 'because', 2: 'happy', 3: 'i', 4: 'learning'}"
            ]
          },
          "metadata": {},
          "execution_count": 264
        }
      ]
    },
    {
      "cell_type": "code",
      "metadata": {
        "id": "9UTlx2tSSipB",
        "outputId": "3760cda7-249c-403f-f06e-b9211d997033",
        "colab": {
          "base_uri": "https://localhost:8080/"
        }
      },
      "source": [
        "# Print value for the key '2' within Ind2word dictionary\n",
        "print(\"Word which has index 2:  \",Ind2word[2] )"
      ],
      "execution_count": 265,
      "outputs": [
        {
          "output_type": "stream",
          "name": "stdout",
          "text": [
            "Word which has index 2:   happy\n"
          ]
        }
      ]
    },
    {
      "cell_type": "markdown",
      "metadata": {
        "id": "p4ZR6TN4SpNP"
      },
      "source": [
        "Enfin, obtenez la longueur de l'un ou l'autre de ces dictionnaires pour connaître la taille du vocabulaire de votre corpus, c'est-à-dire le nombre de mots différents composant le corpus."
      ]
    },
    {
      "cell_type": "code",
      "metadata": {
        "id": "-wTLCgCdSqxJ",
        "outputId": "b4a22ad1-4c9a-4e35-e334-82051f0a4cae",
        "colab": {
          "base_uri": "https://localhost:8080/"
        }
      },
      "source": [
        "# Save length of word2Ind dictionary into the 'V' variable\n",
        "V = len(word2Ind)\n",
        "\n",
        "# Print length of word2Ind dictionary\n",
        "print(\"Size of vocabulary: \", V)"
      ],
      "execution_count": 266,
      "outputs": [
        {
          "output_type": "stream",
          "name": "stdout",
          "text": [
            "Size of vocabulary:  5\n"
          ]
        }
      ]
    },
    {
      "cell_type": "markdown",
      "metadata": {
        "id": "0zKcIIqUSvET"
      },
      "source": [
        "### Obtenir des one-hot vecteurs\n",
        "\n",
        "Rappelez-vous que vous pouvez facilement convertir un entier, $n$, en un vecteur d'un seul coup.\n",
        "\n",
        "Considérez le mot \"happy\". Tout d'abord, récupérez son index numérique."
      ]
    },
    {
      "cell_type": "code",
      "metadata": {
        "id": "4n1KkYDeS_JX",
        "outputId": "a0f6c50a-3a69-4f11-bb4a-de18b020c9c1",
        "colab": {
          "base_uri": "https://localhost:8080/"
        }
      },
      "source": [
        "# Save index of word 'happy' into the 'n' variable\n",
        "n = word2Ind['happy']\n",
        "\n",
        "# Print index of word 'happy'\n",
        "n"
      ],
      "execution_count": 267,
      "outputs": [
        {
          "output_type": "execute_result",
          "data": {
            "text/plain": [
              "2"
            ]
          },
          "metadata": {},
          "execution_count": 267
        }
      ]
    },
    {
      "cell_type": "markdown",
      "metadata": {
        "id": "Wzp_pgW9TFFc"
      },
      "source": [
        "Créez maintenant un vecteur de la taille du vocabulaire, et remplissez-le avec des zéros."
      ]
    },
    {
      "cell_type": "code",
      "metadata": {
        "id": "isnZHG5ATKXl",
        "outputId": "1d728886-3f85-496c-dff4-7d093e7623d7",
        "colab": {
          "base_uri": "https://localhost:8080/"
        }
      },
      "source": [
        "# Create vector with the same length as the vocabulary, filled with zeros\n",
        "### A modifier - debut\n",
        "center_word_vector = np.zeros(V)\n",
        "### A modifier - fin\n",
        "\n",
        "# Print vector\n",
        "center_word_vector"
      ],
      "execution_count": 268,
      "outputs": [
        {
          "output_type": "execute_result",
          "data": {
            "text/plain": [
              "array([0., 0., 0., 0., 0.])"
            ]
          },
          "metadata": {},
          "execution_count": 268
        }
      ]
    },
    {
      "cell_type": "markdown",
      "metadata": {
        "id": "_z4UWky8TMl4"
      },
      "source": [
        "Vous pouvez confirmer que le vecteur a la bonne taille."
      ]
    },
    {
      "cell_type": "code",
      "metadata": {
        "id": "10grSJfMTQkL",
        "outputId": "eff3b2e6-2ed9-444a-e38d-439ba09c20a2",
        "colab": {
          "base_uri": "https://localhost:8080/"
        }
      },
      "source": [
        "# Assert that the length of the vector is the same as the size of the vocabulary\n",
        "len(center_word_vector) == V"
      ],
      "execution_count": 269,
      "outputs": [
        {
          "output_type": "execute_result",
          "data": {
            "text/plain": [
              "True"
            ]
          },
          "metadata": {},
          "execution_count": 269
        }
      ]
    },
    {
      "cell_type": "markdown",
      "metadata": {
        "id": "T_8btBlLTRta"
      },
      "source": [
        "Ensuite, remplacez le 0 de l'élément $n$-th par un 1."
      ]
    },
    {
      "cell_type": "code",
      "metadata": {
        "id": "PP_ZDt-6Tbgc"
      },
      "source": [
        "# Replace element number 'n' with a 1\n",
        "center_word_vector[n] = 1"
      ],
      "execution_count": 270,
      "outputs": []
    },
    {
      "cell_type": "markdown",
      "metadata": {
        "id": "k02E5K_0TeEI"
      },
      "source": [
        "Et vous avez votre one-hot vecteur pour votre mot."
      ]
    },
    {
      "cell_type": "code",
      "metadata": {
        "id": "F7WoEkuNTl3X",
        "outputId": "473fc496-655b-4b84-dba3-9b2a93d89038",
        "colab": {
          "base_uri": "https://localhost:8080/"
        }
      },
      "source": [
        "# Print vector\n",
        "center_word_vector"
      ],
      "execution_count": 271,
      "outputs": [
        {
          "output_type": "execute_result",
          "data": {
            "text/plain": [
              "array([0., 0., 1., 0., 0.])"
            ]
          },
          "metadata": {},
          "execution_count": 271
        }
      ]
    },
    {
      "cell_type": "markdown",
      "metadata": {
        "id": "6DjXNo12TpJ6"
      },
      "source": [
        "**Vous pouvez maintenant regrouper toutes ces étapes dans une fonction pratique, qui prend comme paramètres : un mot à encoder, un dictionnaire qui associe les mots à des index, et la taille du vocabulaire.**"
      ]
    },
    {
      "cell_type": "code",
      "metadata": {
        "id": "3OCHyb1vTvXM"
      },
      "source": [
        "# Define the 'word_to_one_hot_vector' function that will include the steps previously seen\n",
        "def word_to_one_hot_vector(word, word2Ind, V):\n",
        "\n",
        "    ### A modifier - debut\n",
        "    one_hot_vector = np.zeros(V)\n",
        "    one_hot_vector[word2Ind[word]] = 1\n",
        "    ### A modifier - fin\n",
        "    return one_hot_vector"
      ],
      "execution_count": 272,
      "outputs": []
    },
    {
      "cell_type": "markdown",
      "metadata": {
        "id": "v1VSdiRKTxXc"
      },
      "source": [
        "Vérifiez qu'il fonctionne comme prévu."
      ]
    },
    {
      "cell_type": "code",
      "metadata": {
        "id": "VlteDjq0T1du",
        "outputId": "29e8cc41-704d-4c80-8487-32185c278eb9",
        "colab": {
          "base_uri": "https://localhost:8080/"
        }
      },
      "source": [
        "# Print output of 'word_to_one_hot_vector' function for word 'happy'\n",
        "word_to_one_hot_vector('happy', word2Ind, V)"
      ],
      "execution_count": 273,
      "outputs": [
        {
          "output_type": "execute_result",
          "data": {
            "text/plain": [
              "array([0., 0., 1., 0., 0.])"
            ]
          },
          "metadata": {},
          "execution_count": 273
        }
      ]
    },
    {
      "cell_type": "markdown",
      "metadata": {
        "id": "ZGHMFiZmT6R-"
      },
      "source": [
        "**Quel est le mot vecteur pour \"learning\"?**"
      ]
    },
    {
      "cell_type": "code",
      "metadata": {
        "id": "i7qT7f1sT9ks",
        "outputId": "574ace3b-25c6-478b-d424-ef54fa26d246",
        "colab": {
          "base_uri": "https://localhost:8080/"
        }
      },
      "source": [
        "# Print output of 'word_to_one_hot_vector' function for word 'learning'\n",
        "word_to_one_hot_vector('learning', word2Ind, V)"
      ],
      "execution_count": 274,
      "outputs": [
        {
          "output_type": "execute_result",
          "data": {
            "text/plain": [
              "array([0., 0., 0., 0., 1.])"
            ]
          },
          "metadata": {},
          "execution_count": 274
        }
      ]
    },
    {
      "cell_type": "markdown",
      "metadata": {
        "id": "0XbNd7WbUBr3"
      },
      "source": [
        "Réponse attendue :\n",
        "\n",
        "    array([0., 0., 0., 0., 1.])"
      ]
    },
    {
      "cell_type": "markdown",
      "metadata": {
        "id": "wFyPRmqiUIJO"
      },
      "source": [
        "### Obtenir des vecteurs de mots contextuels\n",
        "\n",
        "Pour créer les vecteurs qui représentent les mots de contexte, vous calculerez la moyenne des one-hot vecteurs représentant les mots individuels.\n",
        "\n",
        "Commençons par une liste de mots contextuels."
      ]
    },
    {
      "cell_type": "code",
      "metadata": {
        "id": "fadSaWV6UH3s"
      },
      "source": [
        "# Define list containing context words\n",
        "context_words = ['i', 'am', 'because', 'i']"
      ],
      "execution_count": 275,
      "outputs": []
    },
    {
      "cell_type": "markdown",
      "metadata": {
        "id": "MJNExv6_UdR2"
      },
      "source": [
        "En utilisant la fonction `word_to_one_hot_vector` que vous avez créée dans la section précédente, vous pouvez créer une liste de vecteurs one-hot représentant chacun des mots du contexte."
      ]
    },
    {
      "cell_type": "code",
      "metadata": {
        "id": "VZPlZWI1UpRl",
        "outputId": "2f8ab2ea-2a83-40ca-ec33-831309bc1a1b",
        "colab": {
          "base_uri": "https://localhost:8080/"
        }
      },
      "source": [
        "# Create one-hot vectors for each context word using list comprehension\n",
        "\n",
        "### A modifier - debut\n",
        "context_words_vectors = [word_to_one_hot_vector(word, word2Ind, V) for word in context_words]\n",
        "### A modifier - fin\n",
        "\n",
        "# Print one-hot vectors for each context word\n",
        "context_words_vectors"
      ],
      "execution_count": 276,
      "outputs": [
        {
          "output_type": "execute_result",
          "data": {
            "text/plain": [
              "[array([0., 0., 0., 1., 0.]),\n",
              " array([1., 0., 0., 0., 0.]),\n",
              " array([0., 1., 0., 0., 0.]),\n",
              " array([0., 0., 0., 1., 0.])]"
            ]
          },
          "metadata": {},
          "execution_count": 276
        }
      ]
    },
    {
      "cell_type": "markdown",
      "metadata": {
        "id": "X5TlknIiUv_E"
      },
      "source": [
        "Et vous pouvez maintenant simplement obtenir la moyenne de ces vecteurs en utilisant la fonction `mean` de numpy, pour obtenir la représentation vectorielle des mots de contexte."
      ]
    },
    {
      "cell_type": "code",
      "metadata": {
        "id": "VeF2X3kNUxhL",
        "outputId": "56fe1a48-8b07-496f-91af-b279f27362ec",
        "colab": {
          "base_uri": "https://localhost:8080/"
        }
      },
      "source": [
        "# Compute mean of the vectors using numpy\n",
        "np.mean(context_words_vectors, axis=0)"
      ],
      "execution_count": 277,
      "outputs": [
        {
          "output_type": "execute_result",
          "data": {
            "text/plain": [
              "array([0.25, 0.25, 0.  , 0.5 , 0.  ])"
            ]
          },
          "metadata": {},
          "execution_count": 277
        }
      ]
    },
    {
      "cell_type": "markdown",
      "metadata": {
        "id": "Me5H1I3OU5th"
      },
      "source": [
        "Notez le paramètre `axis=0` de la fonction `mean` est utilisé pour calculer la moyenne des lignes (si vous aviez voulu la moyenne des colonnes, vous auriez utilisé `axis=1`).\n",
        "\n",
        "**Créez maintenant la fonction `context_words_to_vector` qui prend en compte une liste de mots de contexte, un dictionnaire de mots à indexer, et une taille de vocabulaire, et produit la représentation vectorielle des mots de contexte.**"
      ]
    },
    {
      "cell_type": "code",
      "metadata": {
        "id": "3qiJE7ZyUxeG"
      },
      "source": [
        "# Define the 'context_words_to_vector' function that will include the steps previously seen\n",
        "def context_words_to_vector(context_words, word2Ind, V):\n",
        "\n",
        "    ### A modifier - debut\n",
        "    context_words_vectors = [word_to_one_hot_vector(word, word2Ind, V) for word in context_words]\n",
        "    context_words_vectors = np.mean(context_words_vectors, axis=0)\n",
        "    ### A modifier - fin\n",
        "    return context_words_vectors"
      ],
      "execution_count": 278,
      "outputs": []
    },
    {
      "cell_type": "markdown",
      "metadata": {
        "id": "X2ZfSB69VHDh"
      },
      "source": [
        "Et vérifiez que vous obtenez le même résultat que l'approche manuelle ci-dessus."
      ]
    },
    {
      "cell_type": "code",
      "metadata": {
        "id": "r4atGVPHVLeQ",
        "outputId": "32c7d526-b9ae-4b7b-eed7-19faf41b0b31",
        "colab": {
          "base_uri": "https://localhost:8080/"
        }
      },
      "source": [
        "# Print output of 'context_words_to_vector' function for context words: 'i', 'am', 'because', 'i'\n",
        "context_words_to_vector(['i', 'am', 'because', 'i'], word2Ind, V)"
      ],
      "execution_count": 279,
      "outputs": [
        {
          "output_type": "execute_result",
          "data": {
            "text/plain": [
              "array([0.25, 0.25, 0.  , 0.5 , 0.  ])"
            ]
          },
          "metadata": {},
          "execution_count": 279
        }
      ]
    },
    {
      "cell_type": "markdown",
      "metadata": {
        "id": "IIxFJnDaVNUa"
      },
      "source": [
        "**Quelle est la représentation vectorielle des mots du contexte \"am happy i am\" ?**"
      ]
    },
    {
      "cell_type": "code",
      "metadata": {
        "id": "1isiPPeEVZDc",
        "outputId": "5c7582c5-047f-4fc9-f8c8-b45a54bb57af",
        "colab": {
          "base_uri": "https://localhost:8080/"
        }
      },
      "source": [
        "# Print output of 'context_words_to_vector' function for context words: 'am', 'happy', 'i', 'am'\n",
        "context_words_to_vector(['am', 'happy', 'i', 'am'], word2Ind, V)"
      ],
      "execution_count": 280,
      "outputs": [
        {
          "output_type": "execute_result",
          "data": {
            "text/plain": [
              "array([0.5 , 0.  , 0.25, 0.25, 0.  ])"
            ]
          },
          "metadata": {},
          "execution_count": 280
        }
      ]
    },
    {
      "cell_type": "markdown",
      "metadata": {
        "id": "zBsta4DoVZ-D"
      },
      "source": [
        "Réponse attendue:\n",
        "\n",
        "    array([0.5 , 0.  , 0.25, 0.25, 0.  ])"
      ]
    },
    {
      "cell_type": "markdown",
      "metadata": {
        "id": "KNyO1D85VisQ"
      },
      "source": [
        "## Construire l'ensemble du training set\n",
        "\n",
        "Vous pouvez maintenant combiner les fonctions que vous avez créées dans les sections précédentes, afin de construire le jeu d'entraînement pour le modèle CBOW, à partir du corpus suivant."
      ]
    },
    {
      "cell_type": "code",
      "metadata": {
        "id": "gSz0IQk6Vta3",
        "outputId": "1e0a8ccc-89cc-4bab-dec4-c57f2428ec0a",
        "colab": {
          "base_uri": "https://localhost:8080/"
        }
      },
      "source": [
        "# Print corpus\n",
        "words"
      ],
      "execution_count": 281,
      "outputs": [
        {
          "output_type": "execute_result",
          "data": {
            "text/plain": [
              "['i', 'am', 'happy', 'because', 'i', 'am', 'learning']"
            ]
          },
          "metadata": {},
          "execution_count": 281
        }
      ]
    },
    {
      "cell_type": "markdown",
      "metadata": {
        "id": "E7ID3-DhV1Gr"
      },
      "source": [
        "Pour ce faire, vous devez utiliser la fonction de fenêtre coulissante (`get_windows`) pour extraire les mots de contexte et les mots de centre, et vous devez ensuite convertir ces ensembles de mots en une représentation vectorielle de base en utilisant `word_to_one_hot_vector` et `context_words_to_vector`."
      ]
    },
    {
      "cell_type": "code",
      "metadata": {
        "id": "KQe1OIeMWDQl",
        "outputId": "fa4c085b-da47-4073-f24e-e5eac2482abb",
        "colab": {
          "base_uri": "https://localhost:8080/"
        }
      },
      "source": [
        "# Print vectors associated to center and context words for corpus\n",
        "for context_words, center_word in get_windows(words, 2):  # reminder: 2 is the context half-size\n",
        "    print(f'Context words:  {context_words} -> {context_words_to_vector(context_words, word2Ind, V)}')\n",
        "    print(f'Center word:  {center_word} -> {word_to_one_hot_vector(center_word, word2Ind, V)}')\n",
        "    print()"
      ],
      "execution_count": 282,
      "outputs": [
        {
          "output_type": "stream",
          "name": "stdout",
          "text": [
            "Context words:  ['i', 'am', 'because', 'i'] -> [0.25 0.25 0.   0.5  0.  ]\n",
            "Center word:  happy -> [0. 0. 1. 0. 0.]\n",
            "\n",
            "Context words:  ['am', 'happy', 'i', 'am'] -> [0.5  0.   0.25 0.25 0.  ]\n",
            "Center word:  because -> [0. 1. 0. 0. 0.]\n",
            "\n",
            "Context words:  ['happy', 'because', 'am', 'learning'] -> [0.25 0.25 0.25 0.   0.25]\n",
            "Center word:  i -> [0. 0. 0. 1. 0.]\n",
            "\n"
          ]
        }
      ]
    },
    {
      "cell_type": "markdown",
      "metadata": {
        "id": "--8izoypWE83"
      },
      "source": [
        "Dans ce notebook, vous effectuerez une seule itération du jeu d'entraînement en utilisant un seul exemple, mais dans le cadre d'un projet, vous formerez le modèle CBOW en utilisant plusieurs itérations et différent batchs d'exemples.\n",
        "\n",
        "Voici comment vous utiliserez une fonction de générateur Python (rappelez-vous le mot-clé \"[yield](https://fr.wikipedia.org/wiki/Yield_(instruction))\") pour faciliter l'itération sur un ensemble d'exemples."
      ]
    },
    {
      "cell_type": "code",
      "metadata": {
        "id": "IVwacU9pWc2v"
      },
      "source": [
        "# Define the generator function 'get_training_example'\n",
        "def get_training_example(words, C, word2Ind, V):\n",
        "    ### A modifier - debut\n",
        "    for context_words, center_word in get_windows(words, C):\n",
        "        yield context_words_to_vector(context_words, word2Ind, V), word_to_one_hot_vector(center_word, word2Ind, V)\n",
        "    ### A modifier - fin"
      ],
      "execution_count": 283,
      "outputs": []
    },
    {
      "cell_type": "markdown",
      "metadata": {
        "id": "30yQDjsWWpRc"
      },
      "source": [
        "La sortie de cette fonction peut être répétée pour obtenir des vecteurs de mots de contexte et des vecteurs de mots centraux successifs, comme démontré dans la cellule suivante."
      ]
    },
    {
      "cell_type": "code",
      "source": [
        "word2Ind"
      ],
      "metadata": {
        "id": "1bWVIl06XgEu",
        "outputId": "2431a607-f090-46ed-9912-8de34996a38b",
        "colab": {
          "base_uri": "https://localhost:8080/"
        }
      },
      "execution_count": 284,
      "outputs": [
        {
          "output_type": "execute_result",
          "data": {
            "text/plain": [
              "{'am': 0, 'because': 1, 'happy': 2, 'i': 3, 'learning': 4}"
            ]
          },
          "metadata": {},
          "execution_count": 284
        }
      ]
    },
    {
      "cell_type": "code",
      "metadata": {
        "id": "Q-ah76UqWuz8",
        "outputId": "d7d40bc2-974c-4bb2-9b46-d047af5f81ff",
        "colab": {
          "base_uri": "https://localhost:8080/"
        }
      },
      "source": [
        "# Print vectors associated to center and context words for corpus using the generator function\n",
        "print(words)\n",
        "for context_words_vector, center_word_vector in get_training_example(words, 2, word2Ind, V):\n",
        "    print(f'Context words vector:  {context_words_vector}')\n",
        "    print(f'Center word vector:  {center_word_vector}')"
      ],
      "execution_count": 285,
      "outputs": [
        {
          "output_type": "stream",
          "name": "stdout",
          "text": [
            "['i', 'am', 'happy', 'because', 'i', 'am', 'learning']\n",
            "Context words vector:  [0.25 0.25 0.   0.5  0.  ]\n",
            "Center word vector:  [0. 0. 1. 0. 0.]\n",
            "Context words vector:  [0.5  0.   0.25 0.25 0.  ]\n",
            "Center word vector:  [0. 1. 0. 0. 0.]\n",
            "Context words vector:  [0.25 0.25 0.25 0.   0.25]\n",
            "Center word vector:  [0. 0. 0. 1. 0.]\n"
          ]
        }
      ]
    },
    {
      "cell_type": "markdown",
      "metadata": {
        "id": "0Bkw_snnWyWW"
      },
      "source": [
        "Votre jeu d'entraînement est prêt, vous pouvez maintenant passer au modèle CBOW.\n"
      ]
    },
    {
      "cell_type": "code",
      "metadata": {
        "id": "i1Ibqk53W8mW"
      },
      "source": [],
      "execution_count": 285,
      "outputs": []
    }
  ]
}